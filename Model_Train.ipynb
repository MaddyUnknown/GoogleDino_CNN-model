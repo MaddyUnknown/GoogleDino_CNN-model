{
 "cells": [
  {
   "cell_type": "code",
   "execution_count": 1,
   "metadata": {},
   "outputs": [],
   "source": [
    "import torch\n",
    "import torch.nn as nn\n",
    "from torch.utils.data import Dataset, DataLoader\n",
    "import numpy as np\n",
    "import matplotlib.pyplot as plt\n",
    "import time\n",
    "import cv2\n",
    "import os"
   ]
  },
  {
   "cell_type": "code",
   "execution_count": 2,
   "metadata": {},
   "outputs": [],
   "source": [
    "class Data(Dataset):\n",
    "    def __init__(self, file_namex, file_namey):\n",
    "        self.x = np.load(file_namex)\n",
    "        self.y = np.load(file_namey)\n",
    "        self.height, self.width = self.x[0].shape[:-1]\n",
    "    def __len__(self):\n",
    "        return len(self.x)\n",
    "    def get(self, c, index):\n",
    "        s = np.where(self.y == c)[0]\n",
    "        return s[index%len(s)]\n",
    "    def __getitem__(self, index):\n",
    "        if torch.is_tensor(index):\n",
    "            index = index.tolist()\n",
    "        x = torch.from_numpy(self.x[index])\n",
    "        y = torch.from_numpy(np.array(self.y[index]))\n",
    "        return {'image':x,'label':y}\n",
    "trainset = Data(r'Data/Train_set_x_sequence.npy', r'Data/Train_set_y_sequence.npy')\n",
    "valset = Data(r'Data/Val_set_x_sequence.npy', r'Data/Val_set_y_sequence.npy')"
   ]
  },
  {
   "cell_type": "code",
   "execution_count": 3,
   "metadata": {},
   "outputs": [
    {
     "name": "stdout",
     "output_type": "stream",
     "text": [
      "Length of Training set   :  7050\n",
      "Length of Validation set :  1857\n",
      "For training  :  torch.Size([3, 40, 140]) torch.Size([])\n",
      "For validation:  torch.Size([3, 40, 140]) torch.Size([])\n",
      "Label :  0\n"
     ]
    },
    {
     "data": {
      "image/png": "[encoded data removed]",
      "text/plain": [
       "<Figure size 432x288 with 3 Axes>"
      ]
     },
     "metadata": {
      "needs_background": "light"
     },
     "output_type": "display_data"
    }
   ],
   "source": [
    "index= 20\n",
    "print(\"Length of Training set   : \",len(trainset))\n",
    "print(\"Length of Validation set : \",len(valset))\n",
    "sample = trainset[index]\n",
    "\n",
    "print('For training  : ',sample['image'].shape, sample['label'].shape)\n",
    "print('For validation: ',valset[index]['image'].shape, valset[index]['label'].shape)\n",
    "plt.subplot(3,1,1)\n",
    "plt.imshow(sample['image'][0], cmap='gray')\n",
    "plt.subplot(3,1,2)\n",
    "plt.imshow(sample['image'][1], cmap='gray')\n",
    "plt.subplot(3,1,3)\n",
    "plt.imshow(sample['image'][2], cmap='gray')\n",
    "print('Label : ', int(sample['label']))"
   ]
  },
  {
   "cell_type": "code",
   "execution_count": 4,
   "metadata": {},
   "outputs": [],
   "source": [
    "class Net1(nn.Module):\n",
    "    def __init__(self):\n",
    "        super(Net, self).__init__()\n",
    "        \n",
    "        self.conv1_1 = nn.Conv2d(1, 64, 3)\n",
    "        self.batch1_1 = nn.BatchNorm2d(64)\n",
    "        self.relu1_1 = nn.ReLU()\n",
    "        self.conv1_2 = nn.Conv2d(64, 128, 3)\n",
    "        self.batch1_2 = nn.BatchNorm2d(128)\n",
    "        self.relu1_2 = nn.ReLU()\n",
    "        self.pool1 = nn.MaxPool2d(3, stride=2)\n",
    "        \n",
    "        self.dropout1 = nn.Dropout(0.25)\n",
    "        \n",
    "        self.conv2_1 = nn.Conv2d(128, 256, 3)\n",
    "        self.batch2_1 = nn.BatchNorm2d(256)\n",
    "        self.relu2_1 = nn.ReLU()\n",
    "        self.conv2_2 = nn.Conv2d(256, 256, 3)\n",
    "        self.batch2_2 = nn.BatchNorm2d(256)\n",
    "        self.relu2_2 = nn.ReLU()\n",
    "        self.pool2 = nn.MaxPool2d(3, stride=2)\n",
    "\n",
    "        self.dropout2 = nn.Dropout(0.25)\n",
    "        \n",
    "        self.fc1 = nn.Linear(256*6*31, 512)\n",
    "        self.batch_fc1 = nn.BatchNorm1d(512)\n",
    "        self.relu_fc1 = nn.ReLU()\n",
    "        \n",
    "        self.fc2 = nn.Linear(512, 126)\n",
    "        self.batch_fc2 = nn.BatchNorm1d(126)\n",
    "        self.relu_fc2 = nn.ReLU()\n",
    "        \n",
    "        #self.fc3 = nn.Linear(256, 126)\n",
    "        #self.batch_fc3 = nn.BatchNorm1d(126)\n",
    "        #self.relu_fc3 = nn.ReLU()\n",
    "        \n",
    "        self.fc4 = nn.Linear(126, 3)\n",
    "        \n",
    "    def forward(self, x, choice=0):\n",
    "        x = x/255\n",
    "        x = self.relu1_1(self.batch1_1(self.conv1_1(x)))\n",
    "        x = self.relu1_2(self.batch1_2(self.conv1_2(x)))\n",
    "        x = self.pool1(x)\n",
    "        \n",
    "        x = self.dropout1(x)\n",
    "        \n",
    "        x = self.relu2_1(self.batch2_1(self.conv2_1(x)))\n",
    "        x = self.relu2_2(self.batch2_2(self.conv2_2(x)))\n",
    "        x = self.pool2(x)\n",
    "        \n",
    "        x = self.dropout2(x)\n",
    "        \n",
    "        #print(x.shape)\n",
    "        \n",
    "        x = x.view(-1, 256*6*31)\n",
    "        \n",
    "        x = self.relu_fc1(self.batch_fc1(self.fc1(x)))\n",
    "        \n",
    "        x = self.relu_fc2(self.batch_fc2(self.fc2(x)))\n",
    "        \n",
    "        #x = self.relu_fc3(self.batch_fc3(self.fc3(x)))\n",
    "        \n",
    "        x = self.fc4(x)\n",
    "        \n",
    "        return x"
   ]
  },
  {
   "cell_type": "code",
   "execution_count": 14,
   "metadata": {},
   "outputs": [],
   "source": [
    "class Net(nn.Module):\n",
    "    def __init__(self):\n",
    "        super(Net, self).__init__()\n",
    "        \n",
    "        self.conv1 = nn.Conv2d(3, 16, 3)\n",
    "        self.batch1 = nn.BatchNorm2d(16)\n",
    "        self.relu1 = nn.ReLU()\n",
    "        self.pool1 = nn.MaxPool2d(2, stride =2)\n",
    "        \n",
    "        self.dropout1 = nn.Dropout(0.2) \n",
    "        \n",
    "        self.conv2 = nn.Conv2d(16, 32, 3)\n",
    "        self.batch2 = nn.BatchNorm2d(32)\n",
    "        self.relu2 = nn.ReLU()\n",
    "        self.pool2 = nn.MaxPool2d(2, stride=2)\n",
    "        \n",
    "        self.dropout2 = nn.Dropout(0.25) \n",
    "        \n",
    "        self.conv3 = nn.Conv2d(32, 64, 3)\n",
    "        self.batch3 = nn.BatchNorm2d(64)\n",
    "        self.relu3 = nn.ReLU()\n",
    "        self.pool3 = nn.MaxPool2d(2, stride=2)\n",
    "        \n",
    "        self.dropout3 = nn.Dropout(0.25) \n",
    "        \n",
    "        \n",
    "        self.fc1 = nn.Linear(64*3*15, 126)\n",
    "        self.batch_fc1 = nn.BatchNorm1d(126)\n",
    "        self.relu_fc1 = nn.ReLU()\n",
    "        \n",
    "        self.dropout4 = nn.Dropout(0.25) \n",
    "        \n",
    "        self.fc2 = nn.Linear(126, 30)\n",
    "        self.batch_fc2 = nn.BatchNorm1d(30)\n",
    "        self.relu_fc2 = nn.ReLU()\n",
    "        \n",
    "        self.fc3 = nn.Linear(30, 3)\n",
    "        \n",
    "    def forward(self, x, choice=0):\n",
    "        x = x/255\n",
    "        x = self.relu1(self.batch1(self.conv1(x)))\n",
    "        x = self.pool1(x)\n",
    "        \n",
    "        x = self.dropout1(x)\n",
    "        \n",
    "        x = self.relu2(self.batch2(self.conv2(x)))\n",
    "        x = self.pool2(x)\n",
    "        \n",
    "        x = self.dropout2(x)\n",
    "        \n",
    "        #print(\"After 2: \" ,x.shape)\n",
    "        \n",
    "        x = self.relu3(self.batch3(self.conv3(x)))\n",
    "        x = self.pool3(x)\n",
    "        x = self.dropout3(x)\n",
    "        \n",
    "        #print(x.shape)\n",
    "        \n",
    "        x = x.view(-1, 64*3*15)\n",
    "        \n",
    "        x = self.relu_fc1(self.batch_fc1(self.fc1(x)))\n",
    "        \n",
    "        x = self.dropout4(x)\n",
    "        \n",
    "        x = self.relu_fc2(self.batch_fc2(self.fc2(x)))\n",
    "        \n",
    "        x = self.fc3(x)\n",
    "        \n",
    "        return x"
   ]
  },
  {
   "cell_type": "code",
   "execution_count": 15,
   "metadata": {},
   "outputs": [
    {
     "name": "stdout",
     "output_type": "stream",
     "text": [
      "Net(\n",
      "  (conv1): Conv2d(3, 16, kernel_size=(3, 3), stride=(1, 1))\n",
      "  (batch1): BatchNorm2d(16, eps=1e-05, momentum=0.1, affine=True, track_running_stats=True)\n",
      "  (relu1): ReLU()\n",
      "  (pool1): MaxPool2d(kernel_size=2, stride=2, padding=0, dilation=1, ceil_mode=False)\n",
      "  (dropout1): Dropout(p=0.2, inplace=False)\n",
      "  (conv2): Conv2d(16, 32, kernel_size=(3, 3), stride=(1, 1))\n",
      "  (batch2): BatchNorm2d(32, eps=1e-05, momentum=0.1, affine=True, track_running_stats=True)\n",
      "  (relu2): ReLU()\n",
      "  (pool2): MaxPool2d(kernel_size=2, stride=2, padding=0, dilation=1, ceil_mode=False)\n",
      "  (dropout2): Dropout(p=0.25, inplace=False)\n",
      "  (conv3): Conv2d(32, 64, kernel_size=(3, 3), stride=(1, 1))\n",
      "  (batch3): BatchNorm2d(64, eps=1e-05, momentum=0.1, affine=True, track_running_stats=True)\n",
      "  (relu3): ReLU()\n",
      "  (pool3): MaxPool2d(kernel_size=2, stride=2, padding=0, dilation=1, ceil_mode=False)\n",
      "  (dropout3): Dropout(p=0.25, inplace=False)\n",
      "  (fc1): Linear(in_features=2880, out_features=126, bias=True)\n",
      "  (batch_fc1): BatchNorm1d(126, eps=1e-05, momentum=0.1, affine=True, track_running_stats=True)\n",
      "  (relu_fc1): ReLU()\n",
      "  (dropout4): Dropout(p=0.25, inplace=False)\n",
      "  (fc2): Linear(in_features=126, out_features=30, bias=True)\n",
      "  (batch_fc2): BatchNorm1d(30, eps=1e-05, momentum=0.1, affine=True, track_running_stats=True)\n",
      "  (relu_fc2): ReLU()\n",
      "  (fc3): Linear(in_features=30, out_features=3, bias=True)\n",
      ")\n"
     ]
    }
   ],
   "source": [
    "model = Net().cuda()\n",
    "print(model)"
   ]
  },
  {
   "cell_type": "code",
   "execution_count": 16,
   "metadata": {
    "scrolled": true
   },
   "outputs": [
    {
     "name": "stdout",
     "output_type": "stream",
     "text": [
      "Starting Training....\n",
      "[   Epoch:   1   ]  Train Loss:  0.109  Train Acc: 89.21 %     Val Loss:  0.349  Val Acc:  88.48 %\n",
      "[   Epoch:   2   ]  Train Loss:  0.080  Train Acc: 90.30 %     Val Loss:  0.266  Val Acc:  89.93 %\n",
      "[   Epoch:   3   ]  Train Loss:  0.077  Train Acc: 91.21 %     Val Loss:  0.220  Val Acc:  91.38 %\n",
      "[   Epoch:   4   ]  Train Loss:  0.069  Train Acc: 91.15 %     Val Loss:  0.235  Val Acc:  90.95 %\n",
      "[   Epoch:   5   ]  Train Loss:  0.075  Train Acc: 90.14 %     Val Loss:  0.281  Val Acc:  89.82 %\n",
      "[   Epoch:   6   ]  Train Loss:  0.060  Train Acc: 92.04 %     Val Loss:  0.218  Val Acc:  91.98 %\n",
      "[   Epoch:   7   ]  Train Loss:  0.061  Train Acc: 91.70 %     Val Loss:  0.228  Val Acc:  91.22 %\n",
      "[   Epoch:   8   ]  Train Loss:  0.057  Train Acc: 92.52 %     Val Loss:  0.186  Val Acc:  93.16 %\n",
      "[   Epoch:   9   ]  Train Loss:  0.061  Train Acc: 92.50 %     Val Loss:  0.182  Val Acc:  93.11 %\n",
      "[   Epoch:  10   ]  Train Loss:  0.057  Train Acc: 92.60 %     Val Loss:  0.193  Val Acc:  92.62 %\n",
      "[   Epoch:  11   ]  Train Loss:  0.053  Train Acc: 93.01 %     Val Loss:  0.192  Val Acc:  92.95 %\n",
      "[   Epoch:  12   ]  Train Loss:  0.056  Train Acc: 92.60 %     Val Loss:  0.206  Val Acc:  92.62 %\n",
      "[   Epoch:  13   ]  Train Loss:  0.058  Train Acc: 92.77 %     Val Loss:  0.190  Val Acc:  92.68 %\n",
      "[   Epoch:  14   ]  Train Loss:  0.053  Train Acc: 92.81 %     Val Loss:  0.184  Val Acc:  93.05 %\n",
      "[   Epoch:  15   ]  Train Loss:  0.054  Train Acc: 92.89 %     Val Loss:  0.224  Val Acc:  91.49 %\n",
      "[   Epoch:  16   ]  Train Loss:  0.060  Train Acc: 91.82 %     Val Loss:  0.227  Val Acc:  91.28 %\n",
      "[   Epoch:  17   ]  Train Loss:  0.050  Train Acc: 93.32 %     Val Loss:  0.206  Val Acc:  92.14 %\n",
      "[   Epoch:  18   ]  Train Loss:  0.051  Train Acc: 92.79 %     Val Loss:  0.198  Val Acc:  92.68 %\n",
      "[   Epoch:  19   ]  Train Loss:  0.050  Train Acc: 92.77 %     Val Loss:  0.191  Val Acc:  93.32 %\n",
      "[   Epoch:  20   ]  Train Loss:  0.045  Train Acc: 94.13 %     Val Loss:  0.190  Val Acc:  92.89 %\n",
      "Training complete!!!...\n",
      "Time taken to train : 1.41 min\n"
     ]
    }
   ],
   "source": [
    "#model.dropout1 = nn.Dropout(0.1)\n",
    "#model.dropout2 = nn.Dropout(0.1)\n",
    "\n",
    "trainloader = DataLoader(trainset, batch_size=40, shuffle = True)\n",
    "valloader = DataLoader(valset, batch_size = 80)\n",
    "cost = nn.CrossEntropyLoss(weight = torch.Tensor([1,1,10]).cuda())\n",
    "optimizer = torch.optim.Adam(model.parameters(), lr = 0.001)\n",
    "epoch = 20\n",
    "\n",
    "t = time.time()\n",
    "\n",
    "print(\"Starting Training....\")\n",
    "for ep in range(epoch):\n",
    "    model.train()\n",
    "    size = 0\n",
    "    cost_loss = 0\n",
    "    for i_batch, sample in enumerate(trainloader):\n",
    "        x = sample['image'].float().cuda()\n",
    "        y = sample['label'].long().cuda()\n",
    "        optimizer.zero_grad()\n",
    "        output = model(x)\n",
    "        loss = cost(output, y)\n",
    "        loss.backward()\n",
    "        optimizer.step()\n",
    "        size +=1\n",
    "        cost_loss += loss.item()\n",
    "        if i_batch%20 == 19:\n",
    "            print(\"[ Epoch: %3d  Mini-Batch: %3d ] Loss: %.3f\"%(ep+1, i_batch+1, cost_loss/size), end='\\r')\n",
    "            size = 0\n",
    "            cost_loss = 0\n",
    "    model.eval()\n",
    "    val_loss = 0.0\n",
    "    val_accurate = 0\n",
    "    train_loss = 0.0\n",
    "    train_accurate = 0\n",
    "    with torch.no_grad():\n",
    "        for train_batch, sample in enumerate(trainloader):\n",
    "            x = sample['image'].float().cuda()\n",
    "            y = sample['label'].long().cuda()\n",
    "            output = model(x)\n",
    "            loss = cost(output, y)\n",
    "            output = torch.argmax(output, 1)\n",
    "            train_accurate += torch.sum(output==y)\n",
    "            train_loss += loss.item()\n",
    "        for val_batch, sample in enumerate(valloader):\n",
    "            x = sample['image'].float().cuda()\n",
    "            y = sample['label'].long().cuda()\n",
    "            output = model(x)\n",
    "            loss = cost(output, y)\n",
    "            output = torch.argmax(output, 1)\n",
    "            val_accurate += torch.sum(output==y)\n",
    "            val_loss += loss.item()\n",
    "    print(\"[   Epoch: %3d   ]  Train Loss:  %.3f  Train Acc: %.2f %%     Val Loss:  %.3f  Val Acc:  %.2f %%\"\n",
    "          %(ep+1, train_loss/(train_batch+1), 100.0*train_accurate/len(trainset), val_loss/(val_batch+1), 100.0*val_accurate/len(valset)))\n",
    "            \n",
    "print(\"Training complete!!!...\")\n",
    "print(\"Time taken to train : %.2f min\"%((time.time()-t)/60))"
   ]
  },
  {
   "cell_type": "code",
   "execution_count": 17,
   "metadata": {},
   "outputs": [
    {
     "name": "stdout",
     "output_type": "stream",
     "text": [
      "Train Accuracy: 94.14 %\n",
      "Val Accuracy: 92.84 %\n"
     ]
    }
   ],
   "source": [
    "train_data = DataLoader(trainset, batch_size=120, shuffle=True)\n",
    "val_data = DataLoader(valset, batch_size=120, shuffle=True)\n",
    "size = 0\n",
    "cost = 0.0\n",
    "model.eval()\n",
    "with torch.no_grad():\n",
    "    for i, sample in enumerate(train_data):\n",
    "        x = sample['image'].float().cuda()\n",
    "        y = sample['label'].long()\n",
    "        output = model(x)\n",
    "        output = torch.argmax(output, 1).cpu()\n",
    "        cost += torch.sum(output == y).float()/len(output)\n",
    "        size += 1\n",
    "    cost = cost/size\n",
    "    train_acc = 100.0*cost.item()\n",
    "    print(\"Train Accuracy: %.2f %%\"%(train_acc))\n",
    "    size = 0\n",
    "    cost = 0.0\n",
    "    for i, sample in enumerate(val_data):\n",
    "        x = sample['image'].float().cuda()\n",
    "        y = sample['label'].long()\n",
    "        output = model(x)\n",
    "        output = torch.argmax(output, 1).cpu()\n",
    "        cost += torch.sum(output == y).float()/len(output)\n",
    "        size += 1\n",
    "    cost = cost/size\n",
    "    test_acc = 100.0*cost.item()\n",
    "    print(\"Val Accuracy: %.2f %%\"%(test_acc))"
   ]
  },
  {
   "cell_type": "code",
   "execution_count": 20,
   "metadata": {},
   "outputs": [],
   "source": [
    "import winsound\n",
    "\n",
    "winsound.Beep(400, 1000)"
   ]
  },
  {
   "cell_type": "code",
   "execution_count": 18,
   "metadata": {},
   "outputs": [
    {
     "data": {
      "text/plain": [
       "tensor([0, 1, 0, 2, 2, 2, 2, 2, 2, 2, 0, 1, 2, 1, 1, 2, 0, 2, 2, 2, 2, 1, 2, 1,\n",
       "        2, 0, 0, 0, 2, 1, 2, 0, 1, 2, 1, 1, 1, 2, 1, 0, 0, 1, 1, 2, 1, 0, 2, 0,\n",
       "        0, 1, 0, 1, 1, 1, 0, 1, 0])"
      ]
     },
     "execution_count": 18,
     "metadata": {},
     "output_type": "execute_result"
    }
   ],
   "source": [
    "output"
   ]
  },
  {
   "cell_type": "code",
   "execution_count": 19,
   "metadata": {},
   "outputs": [
    {
     "data": {
      "text/plain": [
       "tensor([0, 1, 0, 2, 2, 2, 2, 2, 2, 2, 0, 1, 2, 1, 1, 1, 0, 2, 2, 2, 1, 1, 2, 1,\n",
       "        2, 0, 0, 0, 2, 1, 2, 0, 1, 2, 1, 1, 1, 2, 1, 0, 1, 1, 1, 2, 1, 0, 2, 0,\n",
       "        0, 1, 0, 0, 1, 1, 1, 1, 0])"
      ]
     },
     "execution_count": 19,
     "metadata": {},
     "output_type": "execute_result"
    }
   ],
   "source": [
    "y"
   ]
  },
  {
   "cell_type": "markdown",
   "metadata": {},
   "source": [
    "### Write Model"
   ]
  },
  {
   "cell_type": "code",
   "execution_count": 20,
   "metadata": {},
   "outputs": [],
   "source": [
    "name = 'Model_v11'\n",
    "\n",
    "path = os.path.join('Models', name)\n",
    "\n",
    "os.mkdir(path)\n",
    "\n",
    "torch.save(model.state_dict(), os.path.join(path, name))\n",
    "\n",
    "log = ''\n",
    "\n",
    "with open(os.path.join(path, 'Remarks.txt'), 'w') as f:\n",
    "    f.write(\"\\n\\n *******************Model Details******************** \\n\\n\")\n",
    "    \n",
    "    f.write('Train Accuracy: %d%%\\n Test Accuracy: %d%%\\n'%(train_acc, test_acc))\n",
    "    c= ''\n",
    "    f.write('\\n Parameters: \\n\\n')\n",
    "    for par in model.state_dict():\n",
    "        c += str(par)+'\\t'+str(model.state_dict()[par].size())+'\\n'\n",
    "        \n",
    "    f.write(c)\n",
    "    \n",
    "    f.write(\"\\nLast Loss: %.4f\"%(loss.item()))\n",
    "    f.write('\\n\\n'+log)"
   ]
  },
  {
   "cell_type": "markdown",
   "metadata": {},
   "source": [
    "### Read Model"
   ]
  },
  {
   "cell_type": "code",
   "execution_count": 22,
   "metadata": {},
   "outputs": [
    {
     "data": {
      "text/plain": [
       "Net(\n",
       "  (conv1): Conv2d(3, 16, kernel_size=(3, 3), stride=(1, 1))\n",
       "  (batch1): BatchNorm2d(16, eps=1e-05, momentum=0.1, affine=True, track_running_stats=True)\n",
       "  (relu1): ReLU()\n",
       "  (pool1): MaxPool2d(kernel_size=2, stride=2, padding=0, dilation=1, ceil_mode=False)\n",
       "  (dropout1): Dropout(p=0.2, inplace=False)\n",
       "  (conv2): Conv2d(16, 32, kernel_size=(3, 3), stride=(1, 1))\n",
       "  (batch2): BatchNorm2d(32, eps=1e-05, momentum=0.1, affine=True, track_running_stats=True)\n",
       "  (relu2): ReLU()\n",
       "  (pool2): MaxPool2d(kernel_size=2, stride=2, padding=0, dilation=1, ceil_mode=False)\n",
       "  (dropout2): Dropout(p=0.25, inplace=False)\n",
       "  (conv3): Conv2d(32, 64, kernel_size=(3, 3), stride=(1, 1))\n",
       "  (batch3): BatchNorm2d(64, eps=1e-05, momentum=0.1, affine=True, track_running_stats=True)\n",
       "  (relu3): ReLU()\n",
       "  (pool3): MaxPool2d(kernel_size=2, stride=2, padding=0, dilation=1, ceil_mode=False)\n",
       "  (dropout3): Dropout(p=0.25, inplace=False)\n",
       "  (fc1): Linear(in_features=2880, out_features=126, bias=True)\n",
       "  (batch_fc1): BatchNorm1d(126, eps=1e-05, momentum=0.1, affine=True, track_running_stats=True)\n",
       "  (relu_fc1): ReLU()\n",
       "  (dropout4): Dropout(p=0.25, inplace=False)\n",
       "  (fc2): Linear(in_features=126, out_features=30, bias=True)\n",
       "  (batch_fc2): BatchNorm1d(30, eps=1e-05, momentum=0.1, affine=True, track_running_stats=True)\n",
       "  (relu_fc2): ReLU()\n",
       "  (fc3): Linear(in_features=30, out_features=3, bias=True)\n",
       ")"
      ]
     },
     "execution_count": 22,
     "metadata": {},
     "output_type": "execute_result"
    }
   ],
   "source": [
    "model = Net().cuda()\n",
    "model.load_state_dict(torch.load(r'Models\\Model_v11\\Model_v11'))\n",
    "model.eval()"
   ]
  },
  {
   "cell_type": "code",
   "execution_count": 15,
   "metadata": {},
   "outputs": [
    {
     "data": {
      "text/plain": [
       "24"
      ]
     },
     "execution_count": 15,
     "metadata": {},
     "output_type": "execute_result"
    }
   ],
   "source": [
    "len(valloader)"
   ]
  },
  {
   "cell_type": "code",
   "execution_count": null,
   "metadata": {},
   "outputs": [],
   "source": []
  }
 ],
 "metadata": {
  "kernelspec": {
   "display_name": "Python 3",
   "language": "python",
   "name": "python3"
  },
  "language_info": {
   "codemirror_mode": {
    "name": "ipython",
    "version": 3
   },
   "file_extension": ".py",
   "mimetype": "text/x-python",
   "name": "python",
   "nbconvert_exporter": "python",
   "pygments_lexer": "ipython3",
   "version": "3.7.3"
  }
 },
 "nbformat": 4,
 "nbformat_minor": 2
}
